{
 "cells": [
  {
   "cell_type": "code",
   "execution_count": 13,
   "metadata": {},
   "outputs": [],
   "source": [
    "import pandas as pd\n",
    "import numpy as np\n",
    "import sklearn"
   ]
  },
  {
   "cell_type": "code",
   "execution_count": 14,
   "metadata": {
    "scrolled": true
   },
   "outputs": [],
   "source": [
    "df1 = pd.read_csv(\"./MachineLearningCSV/Friday-WorkingHours-Afternoon-DDos.pcap_ISCX.csv\")\n",
    "df2 = pd.read_csv(\"./MachineLearningCSV/Friday-WorkingHours-Afternoon-PortScan.pcap_ISCX.csv\")\n",
    "df3 = pd.read_csv(\"./MachineLearningCSV/Friday-WorkingHours-Morning.pcap_ISCX.csv\")\n",
    "df4 = pd.read_csv(\"./MachineLearningCSV/Monday-WorkingHours.pcap_ISCX.csv\")\n",
    "df5 = pd.read_csv(\"./MachineLearningCSV/Thursday-WorkingHours-Afternoon-Infilteration.pcap_ISCX.csv\")\n",
    "df6 = pd.read_csv(\"./MachineLearningCSV/Thursday-WorkingHours-Morning-WebAttacks.pcap_ISCX.csv\")\n",
    "df7 = pd.read_csv(\"./MachineLearningCSV/Tuesday-WorkingHours.pcap_ISCX.csv\")\n",
    "df8 = pd.read_csv(\"./MachineLearningCSV/Wednesday-workingHours.pcap_ISCX.csv\")"
   ]
  },
  {
   "cell_type": "code",
   "execution_count": 15,
   "metadata": {},
   "outputs": [
    {
     "data": {
      "text/plain": [
       "DDoS      128027\n",
       "BENIGN     97718\n",
       "Name:  Label, dtype: int64"
      ]
     },
     "execution_count": 15,
     "metadata": {},
     "output_type": "execute_result"
    }
   ],
   "source": [
    "df1[\" Label\"].value_counts()"
   ]
  },
  {
   "cell_type": "code",
   "execution_count": 16,
   "metadata": {},
   "outputs": [
    {
     "data": {
      "text/plain": [
       "PortScan    158930\n",
       "BENIGN      127537\n",
       "Name:  Label, dtype: int64"
      ]
     },
     "execution_count": 16,
     "metadata": {},
     "output_type": "execute_result"
    }
   ],
   "source": [
    "df2[\" Label\"].value_counts()"
   ]
  },
  {
   "cell_type": "code",
   "execution_count": 17,
   "metadata": {},
   "outputs": [
    {
     "data": {
      "text/plain": [
       "BENIGN    189067\n",
       "Bot         1966\n",
       "Name:  Label, dtype: int64"
      ]
     },
     "execution_count": 17,
     "metadata": {},
     "output_type": "execute_result"
    }
   ],
   "source": [
    "df3[\" Label\"].value_counts()"
   ]
  },
  {
   "cell_type": "code",
   "execution_count": 18,
   "metadata": {},
   "outputs": [
    {
     "data": {
      "text/plain": [
       "BENIGN    529918\n",
       "Name:  Label, dtype: int64"
      ]
     },
     "execution_count": 18,
     "metadata": {},
     "output_type": "execute_result"
    }
   ],
   "source": [
    "df4[\" Label\"].value_counts()"
   ]
  },
  {
   "cell_type": "code",
   "execution_count": 19,
   "metadata": {},
   "outputs": [
    {
     "data": {
      "text/plain": [
       "BENIGN          288566\n",
       "Infiltration        36\n",
       "Name:  Label, dtype: int64"
      ]
     },
     "execution_count": 19,
     "metadata": {},
     "output_type": "execute_result"
    }
   ],
   "source": [
    "df5[\" Label\"].value_counts()"
   ]
  },
  {
   "cell_type": "code",
   "execution_count": 20,
   "metadata": {},
   "outputs": [
    {
     "data": {
      "text/plain": [
       "BENIGN                        168186\n",
       "Web Attack � Brute Force        1507\n",
       "Web Attack � XSS                 652\n",
       "Web Attack � Sql Injection        21\n",
       "Name:  Label, dtype: int64"
      ]
     },
     "execution_count": 20,
     "metadata": {},
     "output_type": "execute_result"
    }
   ],
   "source": [
    "df6[\" Label\"].value_counts()"
   ]
  },
  {
   "cell_type": "code",
   "execution_count": 21,
   "metadata": {},
   "outputs": [
    {
     "data": {
      "text/plain": [
       "BENIGN         432074\n",
       "FTP-Patator      7938\n",
       "SSH-Patator      5897\n",
       "Name:  Label, dtype: int64"
      ]
     },
     "execution_count": 21,
     "metadata": {},
     "output_type": "execute_result"
    }
   ],
   "source": [
    "df7[\" Label\"].value_counts()"
   ]
  },
  {
   "cell_type": "code",
   "execution_count": 22,
   "metadata": {},
   "outputs": [
    {
     "data": {
      "text/plain": [
       "BENIGN              440031\n",
       "DoS Hulk            231073\n",
       "DoS GoldenEye        10293\n",
       "DoS slowloris         5796\n",
       "DoS Slowhttptest      5499\n",
       "Heartbleed              11\n",
       "Name:  Label, dtype: int64"
      ]
     },
     "execution_count": 22,
     "metadata": {},
     "output_type": "execute_result"
    }
   ],
   "source": [
    "df8[\" Label\"].value_counts()"
   ]
  },
  {
   "cell_type": "code",
   "execution_count": 23,
   "metadata": {},
   "outputs": [
    {
     "name": "stdout",
     "output_type": "stream",
     "text": [
      "(22574, 79)\n"
     ]
    },
    {
     "data": {
      "text/plain": [
       "DDoS      12702\n",
       "BENIGN     9872\n",
       "Name:  Label, dtype: int64"
      ]
     },
     "execution_count": 23,
     "metadata": {},
     "output_type": "execute_result"
    }
   ],
   "source": [
    "data1 = df1.sample(frac=0.10,random_state=303)\n",
    "print(data1.shape)\n",
    "data1[' Label'].value_counts()"
   ]
  },
  {
   "cell_type": "code",
   "execution_count": 24,
   "metadata": {},
   "outputs": [
    {
     "name": "stdout",
     "output_type": "stream",
     "text": [
      "(28647, 79)\n"
     ]
    },
    {
     "data": {
      "text/plain": [
       "PortScan    15896\n",
       "BENIGN      12751\n",
       "Name:  Label, dtype: int64"
      ]
     },
     "execution_count": 24,
     "metadata": {},
     "output_type": "execute_result"
    }
   ],
   "source": [
    "data2 = df2.sample(frac=0.1,random_state=303)\n",
    "print(data2.shape)\n",
    "data2[' Label'].value_counts()"
   ]
  },
  {
   "cell_type": "code",
   "execution_count": 25,
   "metadata": {},
   "outputs": [
    {
     "name": "stdout",
     "output_type": "stream",
     "text": [
      "(37094, 79)\n"
     ]
    },
    {
     "data": {
      "text/plain": [
       "BENIGN    37094\n",
       "Name:  Label, dtype: int64"
      ]
     },
     "execution_count": 25,
     "metadata": {},
     "output_type": "execute_result"
    }
   ],
   "source": [
    "data3 = df4[df4[' Label']==\"BENIGN\"]\n",
    "data3 = data3.sample(frac=0.07,random_state=303)\n",
    "print(data3.shape)\n",
    "data3[' Label'].value_counts()"
   ]
  },
  {
   "cell_type": "code",
   "execution_count": 26,
   "metadata": {},
   "outputs": [
    {
     "name": "stdout",
     "output_type": "stream",
     "text": [
      "(28853, 79)\n"
     ]
    },
    {
     "data": {
      "text/plain": [
       "BENIGN    28853\n",
       "Name:  Label, dtype: int64"
      ]
     },
     "execution_count": 26,
     "metadata": {},
     "output_type": "execute_result"
    }
   ],
   "source": [
    "data4 = df5.sample(frac=0.1,random_state=303)\n",
    "data4 = data4[data4[' Label']==\"BENIGN\"]\n",
    "print(data4.shape)\n",
    "data4[' Label'].value_counts()"
   ]
  },
  {
   "cell_type": "code",
   "execution_count": 27,
   "metadata": {},
   "outputs": [
    {
     "name": "stdout",
     "output_type": "stream",
     "text": [
      "(16817, 79)\n"
     ]
    },
    {
     "data": {
      "text/plain": [
       "BENIGN    16817\n",
       "Name:  Label, dtype: int64"
      ]
     },
     "execution_count": 27,
     "metadata": {},
     "output_type": "execute_result"
    }
   ],
   "source": [
    "data5 = df6.sample(frac=0.1,random_state=303)\n",
    "data5 = data5[data5[' Label']==\"BENIGN\"]\n",
    "print(data5.shape)\n",
    "data5[' Label'].value_counts()\n",
    "#skip"
   ]
  },
  {
   "cell_type": "code",
   "execution_count": 28,
   "metadata": {},
   "outputs": [
    {
     "name": "stdout",
     "output_type": "stream",
     "text": [
      "(13835, 79)\n"
     ]
    },
    {
     "data": {
      "text/plain": [
       "FTP-Patator    7938\n",
       "SSH-Patator    5897\n",
       "Name:  Label, dtype: int64"
      ]
     },
     "execution_count": 28,
     "metadata": {},
     "output_type": "execute_result"
    }
   ],
   "source": [
    "data6 = df7[df7[' Label']!=\"BENIGN\"]\n",
    "print(data6.shape)\n",
    "data6[' Label'].value_counts()"
   ]
  },
  {
   "cell_type": "code",
   "execution_count": 29,
   "metadata": {},
   "outputs": [
    {
     "name": "stdout",
     "output_type": "stream",
     "text": [
      "(41119, 79)\n"
     ]
    },
    {
     "data": {
      "text/plain": [
       "DoS Hulk            21255\n",
       "DoS GoldenEye        9484\n",
       "DoS slowloris        5306\n",
       "DoS Slowhttptest     5074\n",
       "Name:  Label, dtype: int64"
      ]
     },
     "execution_count": 29,
     "metadata": {},
     "output_type": "execute_result"
    }
   ],
   "source": [
    "data7 = df8[df8[' Label']!=\"Heartbleed\"]\n",
    "dos_hulk = data7[data7[' Label']==\"DoS Hulk\"]\n",
    "dos_hulk = dos_hulk.sample(frac=0.1,random_state=303)\n",
    "dos_goldeneye = data7[data7[' Label']==\"DoS GoldenEye\"]\n",
    "dos_slowloris = data7[data7[' Label']==\"DoS slowloris\"]\n",
    "dos_slowhttptest = data7[data7[' Label']==\"DoS Slowhttptest\"]\n",
    "data7 = pd.concat([dos_hulk,dos_goldeneye,dos_slowloris,dos_slowhttptest])\n",
    "data7 = data7.sample(frac=0.92,random_state = 303)\n",
    "print(data7.shape)\n",
    "data7[' Label'].value_counts()"
   ]
  },
  {
   "cell_type": "code",
   "execution_count": 30,
   "metadata": {},
   "outputs": [
    {
     "data": {
      "text/plain": [
       "188939"
      ]
     },
     "execution_count": 30,
     "metadata": {},
     "output_type": "execute_result"
    }
   ],
   "source": [
    "data1.shape[0] + data2.shape[0] + data3.shape[0] + data4.shape[0] + data5.shape[0] + data6.shape[0] + data7.shape[0]"
   ]
  },
  {
   "cell_type": "code",
   "execution_count": 31,
   "metadata": {},
   "outputs": [],
   "source": [
    "frames = [data1, data2, data3,data4, data5, data6, data7]"
   ]
  },
  {
   "cell_type": "code",
   "execution_count": 32,
   "metadata": {},
   "outputs": [
    {
     "data": {
      "text/plain": [
       "(188939, 79)"
      ]
     },
     "execution_count": 32,
     "metadata": {},
     "output_type": "execute_result"
    }
   ],
   "source": [
    "data = pd.concat(frames)\n",
    "data.shape"
   ]
  },
  {
   "cell_type": "code",
   "execution_count": 33,
   "metadata": {},
   "outputs": [
    {
     "data": {
      "text/plain": [
       "BENIGN              105387\n",
       "DoS Hulk             21255\n",
       "PortScan             15896\n",
       "DDoS                 12702\n",
       "DoS GoldenEye         9484\n",
       "FTP-Patator           7938\n",
       "SSH-Patator           5897\n",
       "DoS slowloris         5306\n",
       "DoS Slowhttptest      5074\n",
       "Name:  Label, dtype: int64"
      ]
     },
     "execution_count": 33,
     "metadata": {},
     "output_type": "execute_result"
    }
   ],
   "source": [
    "data[' Label'].value_counts()"
   ]
  },
  {
   "cell_type": "code",
   "execution_count": 35,
   "metadata": {},
   "outputs": [],
   "source": [
    "data.to_csv('main_dataset.csv', index=False) "
   ]
  },
  {
   "cell_type": "code",
   "execution_count": 36,
   "metadata": {},
   "outputs": [],
   "source": [
    "data = pd.read_csv(\"main_dataset.csv\")"
   ]
  },
  {
   "cell_type": "code",
   "execution_count": 38,
   "metadata": {},
   "outputs": [
    {
     "name": "stdout",
     "output_type": "stream",
     "text": [
      "column name:' Destination Port'  mean:6348.412572311699 minimum: 0\n",
      "column name:' Flow Duration'  mean:18323523.063052095 minimum: -13\n",
      "column name:' Total Fwd Packets'  mean:8.693827108220113 minimum: 1\n",
      "column name:' Total Backward Packets'  mean:9.581261677049206 minimum: 0\n",
      "column name:'Total Length of Fwd Packets'  mean:499.81676096517924 minimum: 0\n",
      "column name:' Total Length of Bwd Packets'  mean:13912.106542323183 minimum: 0\n",
      "column name:' Fwd Packet Length Max'  mean:209.41989742721196 minimum: 0\n",
      "column name:' Fwd Packet Length Min'  mean:17.08036985482087 minimum: 0\n",
      "column name:' Fwd Packet Length Mean'  mean:59.30605528590788 minimum: 0.0\n",
      "column name:' Fwd Packet Length Std'  mean:72.32293930735877 minimum: 0.0\n",
      "column name:'Bwd Packet Length Max'  mean:1200.7812574428783 minimum: 0\n",
      "column name:' Bwd Packet Length Min'  mean:26.830881924854054 minimum: 0\n",
      "column name:' Bwd Packet Length Mean'  mean:394.32624852208824 minimum: 0.0\n",
      "column name:' Bwd Packet Length Std'  mean:495.38140073735536 minimum: 0.0\n",
      "column name:' Flow IAT Mean'  mean:2423217.958205037 minimum: -13.0\n",
      "column name:' Flow IAT Std'  mean:4183072.768509161 minimum: 0.0\n",
      "column name:' Flow IAT Max'  mean:13230238.663923277 minimum: -13\n",
      "column name:' Flow IAT Min'  mean:702704.1173129953 minimum: -13\n",
      "column name:'Fwd IAT Total'  mean:17805573.509095527 minimum: 0\n",
      "column name:' Fwd IAT Mean'  mean:4188042.2711107754 minimum: 0.0\n",
      "column name:' Fwd IAT Std'  mean:4537215.479933496 minimum: 0.0\n",
      "column name:' Fwd IAT Max'  mean:13077733.676689303 minimum: 0\n",
      "column name:' Fwd IAT Min'  mean:2008761.3537279228 minimum: -1\n",
      "column name:'Bwd IAT Total'  mean:10457839.226893336 minimum: 0\n",
      "column name:' Bwd IAT Mean'  mean:2712005.24742011 minimum: 0.0\n",
      "column name:' Bwd IAT Std'  mean:2273699.471947966 minimum: 0.0\n",
      "column name:' Bwd IAT Max'  mean:6343062.796410481 minimum: 0\n",
      "column name:' Bwd IAT Min'  mean:1392943.1670062824 minimum: 0\n",
      "column name:'Fwd PSH Flags'  mean:0.06361312381244741 minimum: 0\n",
      "column name:' Bwd PSH Flags'  mean:0.0 minimum: 0\n",
      "column name:' Fwd URG Flags'  mean:0.00015348869211756174 minimum: 0\n",
      "column name:' Bwd URG Flags'  mean:0.0 minimum: 0\n",
      "column name:' Fwd Header Length'  mean:-1553.5672942060664 minimum: -167770490\n",
      "column name:' Bwd Header Length'  mean:-1540.532891568178 minimum: -167770490\n",
      "column name:'Fwd Packets/s'  mean:64251.30113513995 minimum: 0.0\n",
      "column name:' Bwd Packets/s'  mean:7191.571768193586 minimum: 0.0\n",
      "column name:' Min Packet Length'  mean:11.380382028061968 minimum: 0\n",
      "column name:' Max Packet Length'  mean:1285.8384399197625 minimum: 0\n",
      "column name:' Packet Length Mean'  mean:208.75741753139351 minimum: 0.0\n",
      "column name:' Packet Length Std'  mean:401.58392896728316 minimum: 0.0\n",
      "column name:' Packet Length Variance'  mean:762009.2320982935 minimum: 0.0\n",
      "column name:'FIN Flag Count'  mean:0.0386368087054552 minimum: 0\n",
      "column name:' SYN Flag Count'  mean:0.06361312381244741 minimum: 0\n",
      "column name:' RST Flag Count'  mean:0.00010585427042590466 minimum: 0\n",
      "column name:' PSH Flag Count'  mean:0.39278285584236183 minimum: 0\n",
      "column name:' ACK Flag Count'  mean:0.3409248487607111 minimum: 0\n",
      "column name:' URG Flag Count'  mean:0.08963739619665606 minimum: 0\n",
      "column name:' CWE Flag Count'  mean:0.00015348869211756174 minimum: 0\n",
      "column name:' ECE Flag Count'  mean:0.00010585427042590466 minimum: 0\n",
      "column name:' Down/Up Ratio'  mean:0.6484738460561346 minimum: 0\n",
      "column name:' Average Packet Size'  mean:231.6974429816124 minimum: 0.0\n",
      "column name:' Avg Fwd Segment Size'  mean:59.30605528590788 minimum: 0.0\n",
      "column name:' Avg Bwd Segment Size'  mean:394.32624852208824 minimum: 0.0\n",
      "column name:' Fwd Header Length.1'  mean:-1553.5672942060664 minimum: -167770490\n",
      "column name:'Fwd Avg Bytes/Bulk'  mean:0.0 minimum: 0\n",
      "column name:' Fwd Avg Packets/Bulk'  mean:0.0 minimum: 0\n",
      "column name:' Fwd Avg Bulk Rate'  mean:0.0 minimum: 0\n",
      "column name:' Bwd Avg Bytes/Bulk'  mean:0.0 minimum: 0\n",
      "column name:' Bwd Avg Packets/Bulk'  mean:0.0 minimum: 0\n",
      "column name:'Bwd Avg Bulk Rate'  mean:0.0 minimum: 0\n",
      "column name:'Subflow Fwd Packets'  mean:8.693827108220113 minimum: 1\n",
      "column name:' Subflow Fwd Bytes'  mean:499.81676096517924 minimum: 0\n",
      "column name:' Subflow Bwd Packets'  mean:9.581261677049206 minimum: 0\n",
      "column name:' Subflow Bwd Bytes'  mean:13907.53732686211 minimum: 0\n",
      "column name:'Init_Win_bytes_forward'  mean:8877.59716628118 minimum: -1\n",
      "column name:' Init_Win_bytes_backward'  mean:1402.294671825298 minimum: -1\n",
      "column name:' act_data_pkt_fwd'  mean:5.714807424618527 minimum: 0\n",
      "column name:' min_seg_size_forward'  mean:-1304.6410164127046 minimum: -83885313\n",
      "column name:'Active Mean'  mean:206604.36194553532 minimum: 0.0\n",
      "column name:' Active Std'  mean:76171.64406115607 minimum: 0.0\n",
      "column name:' Active Max'  mean:286482.7589221918 minimum: 0\n",
      "column name:' Active Min'  mean:155638.12120843236 minimum: 0\n",
      "column name:'Idle Mean'  mean:11682293.718354154 minimum: 0.0\n",
      "column name:' Idle Std'  mean:953694.6526410275 minimum: 0.0\n",
      "column name:' Idle Max'  mean:12597411.330524666 minimum: 0\n",
      "column name:' Idle Min'  mean:10952371.019651845 minimum: 0\n"
     ]
    }
   ],
   "source": [
    "for col_name in data.columns:\n",
    "    if data[col_name].dtypes == 'object' :\n",
    "        continue\n",
    "    val = data['{col_name}'.format(col_name=col_name)].mean()\n",
    "    mini = min(data['{col_name}'.format(col_name=col_name)])\n",
    "    print(\"column name:'{col_name}'  mean:{val} minimum: {mini}\".format(col_name=col_name,val=val,mini=mini))"
   ]
  },
  {
   "cell_type": "code",
   "execution_count": 39,
   "metadata": {},
   "outputs": [
    {
     "name": "stdout",
     "output_type": "stream",
     "text": [
      "column:  Flow Duration minimum: -13\n",
      "column:  Flow IAT Mean minimum: -13.0\n",
      "column:  Flow IAT Max minimum: -13\n",
      "column:  Flow IAT Min minimum: -13\n",
      "column:  Fwd IAT Min minimum: -1\n",
      "column:  Fwd Header Length minimum: -167770490\n",
      "column:  Bwd Header Length minimum: -167770490\n",
      "column:  Fwd Header Length.1 minimum: -167770490\n",
      "column: Init_Win_bytes_forward minimum: -1\n",
      "column:  Init_Win_bytes_backward minimum: -1\n",
      "column:  min_seg_size_forward minimum: -83885313\n"
     ]
    }
   ],
   "source": [
    "for j in range(0,79):\n",
    "    col = data.columns[j]\n",
    "    if data[col].dtypes == 'object' :\n",
    "        continue\n",
    "    mn = min(data['{col}'.format(col=col)])\n",
    "    if mn>=0:\n",
    "        continue\n",
    "    print(\"column: {col} minimum: {mn}\".format(col=col,mn=mn))\n",
    "    data['{col}'.format(col=col)] = data['{col}'.format(col=col)] - mn"
   ]
  },
  {
   "cell_type": "code",
   "execution_count": 40,
   "metadata": {},
   "outputs": [
    {
     "data": {
      "text/html": [
       "<div>\n",
       "<style scoped>\n",
       "    .dataframe tbody tr th:only-of-type {\n",
       "        vertical-align: middle;\n",
       "    }\n",
       "\n",
       "    .dataframe tbody tr th {\n",
       "        vertical-align: top;\n",
       "    }\n",
       "\n",
       "    .dataframe thead th {\n",
       "        text-align: right;\n",
       "    }\n",
       "</style>\n",
       "<table border=\"1\" class=\"dataframe\">\n",
       "  <thead>\n",
       "    <tr style=\"text-align: right;\">\n",
       "      <th></th>\n",
       "      <th>Destination Port</th>\n",
       "      <th>Flow Duration</th>\n",
       "      <th>Total Fwd Packets</th>\n",
       "      <th>Total Backward Packets</th>\n",
       "      <th>Total Length of Fwd Packets</th>\n",
       "      <th>Total Length of Bwd Packets</th>\n",
       "      <th>Fwd Packet Length Max</th>\n",
       "      <th>Fwd Packet Length Min</th>\n",
       "      <th>Fwd Packet Length Mean</th>\n",
       "      <th>Fwd Packet Length Std</th>\n",
       "      <th>...</th>\n",
       "      <th>min_seg_size_forward</th>\n",
       "      <th>Active Mean</th>\n",
       "      <th>Active Std</th>\n",
       "      <th>Active Max</th>\n",
       "      <th>Active Min</th>\n",
       "      <th>Idle Mean</th>\n",
       "      <th>Idle Std</th>\n",
       "      <th>Idle Max</th>\n",
       "      <th>Idle Min</th>\n",
       "      <th>Label</th>\n",
       "    </tr>\n",
       "  </thead>\n",
       "  <tbody>\n",
       "    <tr>\n",
       "      <th>0</th>\n",
       "      <td>80</td>\n",
       "      <td>1870151</td>\n",
       "      <td>3</td>\n",
       "      <td>7</td>\n",
       "      <td>26</td>\n",
       "      <td>11607</td>\n",
       "      <td>20</td>\n",
       "      <td>0</td>\n",
       "      <td>8.666667</td>\n",
       "      <td>10.263203</td>\n",
       "      <td>...</td>\n",
       "      <td>83885333</td>\n",
       "      <td>0.0</td>\n",
       "      <td>0.0</td>\n",
       "      <td>0</td>\n",
       "      <td>0</td>\n",
       "      <td>0.0</td>\n",
       "      <td>0.0</td>\n",
       "      <td>0</td>\n",
       "      <td>0</td>\n",
       "      <td>1</td>\n",
       "    </tr>\n",
       "    <tr>\n",
       "      <th>1</th>\n",
       "      <td>80</td>\n",
       "      <td>11303684</td>\n",
       "      <td>4</td>\n",
       "      <td>0</td>\n",
       "      <td>24</td>\n",
       "      <td>0</td>\n",
       "      <td>6</td>\n",
       "      <td>6</td>\n",
       "      <td>6.000000</td>\n",
       "      <td>0.000000</td>\n",
       "      <td>...</td>\n",
       "      <td>83885333</td>\n",
       "      <td>6.0</td>\n",
       "      <td>0.0</td>\n",
       "      <td>6</td>\n",
       "      <td>6</td>\n",
       "      <td>11300000.0</td>\n",
       "      <td>0.0</td>\n",
       "      <td>11300000</td>\n",
       "      <td>11300000</td>\n",
       "      <td>1</td>\n",
       "    </tr>\n",
       "    <tr>\n",
       "      <th>2</th>\n",
       "      <td>59586</td>\n",
       "      <td>721247</td>\n",
       "      <td>5</td>\n",
       "      <td>2</td>\n",
       "      <td>11601</td>\n",
       "      <td>26</td>\n",
       "      <td>8760</td>\n",
       "      <td>0</td>\n",
       "      <td>2320.200000</td>\n",
       "      <td>3803.229575</td>\n",
       "      <td>...</td>\n",
       "      <td>83885333</td>\n",
       "      <td>0.0</td>\n",
       "      <td>0.0</td>\n",
       "      <td>0</td>\n",
       "      <td>0</td>\n",
       "      <td>0.0</td>\n",
       "      <td>0.0</td>\n",
       "      <td>0</td>\n",
       "      <td>0</td>\n",
       "      <td>0</td>\n",
       "    </tr>\n",
       "    <tr>\n",
       "      <th>3</th>\n",
       "      <td>80</td>\n",
       "      <td>834641</td>\n",
       "      <td>3</td>\n",
       "      <td>4</td>\n",
       "      <td>26</td>\n",
       "      <td>11601</td>\n",
       "      <td>20</td>\n",
       "      <td>0</td>\n",
       "      <td>8.666667</td>\n",
       "      <td>10.263203</td>\n",
       "      <td>...</td>\n",
       "      <td>83885333</td>\n",
       "      <td>0.0</td>\n",
       "      <td>0.0</td>\n",
       "      <td>0</td>\n",
       "      <td>0</td>\n",
       "      <td>0.0</td>\n",
       "      <td>0.0</td>\n",
       "      <td>0</td>\n",
       "      <td>0</td>\n",
       "      <td>1</td>\n",
       "    </tr>\n",
       "    <tr>\n",
       "      <th>4</th>\n",
       "      <td>80</td>\n",
       "      <td>104890</td>\n",
       "      <td>3</td>\n",
       "      <td>5</td>\n",
       "      <td>26</td>\n",
       "      <td>11607</td>\n",
       "      <td>20</td>\n",
       "      <td>0</td>\n",
       "      <td>8.666667</td>\n",
       "      <td>10.263203</td>\n",
       "      <td>...</td>\n",
       "      <td>83885333</td>\n",
       "      <td>0.0</td>\n",
       "      <td>0.0</td>\n",
       "      <td>0</td>\n",
       "      <td>0</td>\n",
       "      <td>0.0</td>\n",
       "      <td>0.0</td>\n",
       "      <td>0</td>\n",
       "      <td>0</td>\n",
       "      <td>1</td>\n",
       "    </tr>\n",
       "  </tbody>\n",
       "</table>\n",
       "<p>5 rows × 79 columns</p>\n",
       "</div>"
      ],
      "text/plain": [
       "    Destination Port   Flow Duration   Total Fwd Packets  \\\n",
       "0                 80         1870151                   3   \n",
       "1                 80        11303684                   4   \n",
       "2              59586          721247                   5   \n",
       "3                 80          834641                   3   \n",
       "4                 80          104890                   3   \n",
       "\n",
       "    Total Backward Packets  Total Length of Fwd Packets  \\\n",
       "0                        7                           26   \n",
       "1                        0                           24   \n",
       "2                        2                        11601   \n",
       "3                        4                           26   \n",
       "4                        5                           26   \n",
       "\n",
       "    Total Length of Bwd Packets   Fwd Packet Length Max  \\\n",
       "0                         11607                      20   \n",
       "1                             0                       6   \n",
       "2                            26                    8760   \n",
       "3                         11601                      20   \n",
       "4                         11607                      20   \n",
       "\n",
       "    Fwd Packet Length Min   Fwd Packet Length Mean   Fwd Packet Length Std  \\\n",
       "0                       0                 8.666667               10.263203   \n",
       "1                       6                 6.000000                0.000000   \n",
       "2                       0              2320.200000             3803.229575   \n",
       "3                       0                 8.666667               10.263203   \n",
       "4                       0                 8.666667               10.263203   \n",
       "\n",
       "    ...     min_seg_size_forward  Active Mean   Active Std   Active Max  \\\n",
       "0   ...                 83885333          0.0          0.0            0   \n",
       "1   ...                 83885333          6.0          0.0            6   \n",
       "2   ...                 83885333          0.0          0.0            0   \n",
       "3   ...                 83885333          0.0          0.0            0   \n",
       "4   ...                 83885333          0.0          0.0            0   \n",
       "\n",
       "   Active Min   Idle Mean   Idle Std   Idle Max   Idle Min   Label  \n",
       "0           0         0.0        0.0          0          0       1  \n",
       "1           6  11300000.0        0.0   11300000   11300000       1  \n",
       "2           0         0.0        0.0          0          0       0  \n",
       "3           0         0.0        0.0          0          0       1  \n",
       "4           0         0.0        0.0          0          0       1  \n",
       "\n",
       "[5 rows x 79 columns]"
      ]
     },
     "execution_count": 40,
     "metadata": {},
     "output_type": "execute_result"
    }
   ],
   "source": [
    "for i in range(0,data.shape[0]):\n",
    "    if data[' Label'][i]==\"BENIGN\":\n",
    "        #print(data[' Flow IAT Mean'][i])\n",
    "        data.loc[[i],[' Label']] =  0\n",
    "    else:\n",
    "        data.loc[[i],[' Label']] = 1\n",
    "        \n",
    "data.head()"
   ]
  }
 ],
 "metadata": {
  "kernelspec": {
   "display_name": "Python 3",
   "language": "python",
   "name": "python3"
  },
  "language_info": {
   "codemirror_mode": {
    "name": "ipython",
    "version": 3
   },
   "file_extension": ".py",
   "mimetype": "text/x-python",
   "name": "python",
   "nbconvert_exporter": "python",
   "pygments_lexer": "ipython3",
   "version": "3.7.1"
  }
 },
 "nbformat": 4,
 "nbformat_minor": 2
}
